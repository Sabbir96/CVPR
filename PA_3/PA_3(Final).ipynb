{
  "nbformat": 4,
  "nbformat_minor": 0,
  "metadata": {
    "colab": {
      "name": "PA_3(Final).ipynb",
      "provenance": [],
      "collapsed_sections": []
    },
    "kernelspec": {
      "name": "python3",
      "display_name": "Python 3"
    },
    "language_info": {
      "name": "python"
    },
    "accelerator": "GPU"
  },
  "cells": [
    {
      "cell_type": "markdown",
      "metadata": {
        "id": "t-UJ30qIOkA5"
      },
      "source": [
        "**Name : Islam,M.M.Sabbir**\n",
        "\n",
        "**ID : 18-37311-1**\n",
        "\n"
      ]
    },
    {
      "cell_type": "code",
      "metadata": {
        "id": "p4RUuNZBB6Yj"
      },
      "source": [
        "\n",
        "import tensorflow as tf\n",
        "from tensorflow import keras\n",
        "from tensorflow.keras import layers\n",
        "from tensorflow.keras.datasets import cifar10\n",
        "from tensorflow.keras.callbacks import EarlyStopping\n",
        "\n",
        "from tensorflow.keras.preprocessing.image import ImageDataGenerator\n",
        "from tensorflow.keras.callbacks import LearningRateScheduler, ReduceLROnPlateau\n",
        "\n",
        "import os\n",
        "import numpy as np\n",
        "import matplotlib.pyplot as plt\n",
        "\n",
        "os.environ['TFF_CPP_MIN_LOG_LEVEL'] = '2'\n",
        "\n",
        "%matplotlib inline"
      ],
      "execution_count": 3,
      "outputs": []
    },
    {
      "cell_type": "code",
      "metadata": {
        "colab": {
          "base_uri": "https://localhost:8080/"
        },
        "id": "ebFxjRdxGwre",
        "outputId": "ce4f68ba-ec51-489e-bc28-592daa852e49"
      },
      "source": [
        "(X_train, Y_train), (X_test, Y_test) = cifar10.load_data()\n",
        "print(X_train.shape, Y_train.shape)\n",
        "print(X_test.shape, Y_test.shape)"
      ],
      "execution_count": 4,
      "outputs": [
        {
          "output_type": "stream",
          "text": [
            "Downloading data from https://www.cs.toronto.edu/~kriz/cifar-10-python.tar.gz\n",
            "170500096/170498071 [==============================] - 2s 0us/step\n",
            "(50000, 32, 32, 3) (50000, 1)\n",
            "(10000, 32, 32, 3) (10000, 1)\n"
          ],
          "name": "stdout"
        }
      ]
    },
    {
      "cell_type": "code",
      "metadata": {
        "id": "3wVowPxlGw6E"
      },
      "source": [
        "class_names = ['airplane', 'automobile', 'bird', 'cat', 'deer', 'dog', 'frog', 'horse', 'ship', 'truck']"
      ],
      "execution_count": 5,
      "outputs": []
    },
    {
      "cell_type": "code",
      "metadata": {
        "id": "rJTfYXX4Gw87"
      },
      "source": [
        "SEED = 1000\n",
        "BATCH_SIZE = 256\n",
        "IMG_SIZE=32;\n",
        "\n",
        "X_train = np.array(X_train)\n",
        "X_test = np.array(X_test)\n",
        "\n",
        "X_train = X_train/ 255\n",
        "X_test = X_test/ 255"
      ],
      "execution_count": 6,
      "outputs": []
    },
    {
      "cell_type": "code",
      "metadata": {
        "id": "nyIMfxG0Gw_q"
      },
      "source": [
        "train_gen_low_augmentation = ImageDataGenerator(\n",
        "    # set range for random shear\n",
        "    shear_range=0.2,\n",
        "    # set range for random zoom\n",
        "    zoom_range=0.3,\n",
        "    horizontal_flip=True,\n",
        "    # randomly flip images\n",
        "    vertical_flip=False,\n",
        "    validation_split=0.1,\n",
        "    dtype=tf.float32\n",
        "    )\n",
        "    \n",
        "train_gen_high_augmentation = ImageDataGenerator(\n",
        "    # set input mean to 0 over the dataset\n",
        "    featurewise_center=False,\n",
        "    # set each sample mean to 0\n",
        "    samplewise_center=False,\n",
        "    # divide inputs by std of dataset\n",
        "    featurewise_std_normalization=False,\n",
        "    # divide each input by its std\n",
        "    samplewise_std_normalization=False,\n",
        "    # apply ZCA whitening\n",
        "    zca_whitening=False,\n",
        "    # epsilon for ZCA whitening\n",
        "    zca_epsilon=1e-06,\n",
        "    # randomly rotate images in the range (deg 0 to 180)\n",
        "    rotation_range=60,\n",
        "    # randomly shift images horizontally\n",
        "    width_shift_range=0.2,\n",
        "    # randomly shift images vertically\n",
        "    height_shift_range=0.2,\n",
        "    # set range for random shear\n",
        "    shear_range=0.2,\n",
        "    # set range for random zoom\n",
        "    zoom_range=0.3,\n",
        "    # set range for random channel shifts\n",
        "    channel_shift_range=0.,\n",
        "    # set mode for filling points outside the input boundaries\n",
        "    fill_mode='nearest',\n",
        "    # value used for fill_mode = \"constant\"\n",
        "    cval=0.,\n",
        "    # randomly flip images\n",
        "    horizontal_flip=True,\n",
        "    # randomly flip images\n",
        "    vertical_flip=False,\n",
        "    # set rescaling factor (applied before any other transformation)\n",
        "    rescale=None,\n",
        "    # set function that will be applied on each input\n",
        "    preprocessing_function=tf.keras.applications.resnet50.preprocess_input,\n",
        "    # image data format, either \"channels_first\" or \"channels_last\"\n",
        "    data_format=None,\n",
        "    # fraction of images reserved for validation \n",
        "    \n",
        "    validation_split=0.1,\n",
        "    dtype=tf.float32,\n",
        ")\n"
      ],
      "execution_count": 7,
      "outputs": []
    },
    {
      "cell_type": "code",
      "metadata": {
        "id": "qQzIJKwgP2FD"
      },
      "source": [
        "t_batch_low_augmentation = train_gen_low_augmentation.flow(X_train,Y_train,batch_size = BATCH_SIZE)\n",
        "\n",
        "\n",
        "t_batch_high_augmentation = train_gen_high_augmentation.flow(X_train,Y_train,batch_size = BATCH_SIZE)"
      ],
      "execution_count": 8,
      "outputs": []
    },
    {
      "cell_type": "code",
      "metadata": {
        "id": "eCIHHGGwP2IK",
        "colab": {
          "base_uri": "https://localhost:8080/"
        },
        "outputId": "9000f90b-8954-4dc7-a67c-97b0292642a8"
      },
      "source": [
        "# VGG -16 CNN Architecture\n",
        "\n",
        "model = keras.Sequential([\n",
        "    keras.Input(shape=X_train.shape[1:]),\n",
        "    \n",
        "    layers.Conv2D(filters=64,kernel_size=(3,3),padding=\"same\", activation=\"relu\"),\n",
        "    layers.Conv2D(filters=64,kernel_size=(3,3),padding=\"same\", activation=\"relu\"),\n",
        "    layers.MaxPool2D(pool_size=(2,2),strides=(2,2)),\n",
        "    layers.Conv2D(filters=128, kernel_size=(3,3), padding=\"same\", activation=\"relu\"),\n",
        "    layers.Conv2D(filters=128, kernel_size=(3,3), padding=\"same\", activation=\"relu\"),\n",
        "    layers.MaxPool2D(pool_size=(2,2),strides=(2,2)),\n",
        "    layers.Conv2D(filters=256, kernel_size=(3,3), padding=\"same\", activation=\"relu\"),\n",
        "    layers.Conv2D(filters=256, kernel_size=(3,3), padding=\"same\", activation=\"relu\"),\n",
        "    layers.Conv2D(filters=256, kernel_size=(3,3), padding=\"same\", activation=\"relu\"),\n",
        "    layers.MaxPool2D(pool_size=(2,2),strides=(2,2)),\n",
        "    layers.Conv2D(filters=512, kernel_size=(3,3), padding=\"same\", activation=\"relu\"),\n",
        "    layers.Conv2D(filters=512, kernel_size=(3,3), padding=\"same\", activation=\"relu\"),\n",
        "    layers.Conv2D(filters=512, kernel_size=(3,3), padding=\"same\", activation=\"relu\"),\n",
        "    layers.MaxPool2D(pool_size=(2,2),strides=(2,2)),\n",
        "    layers.Conv2D(filters=512, kernel_size=(3,3), padding=\"same\", activation=\"relu\"),\n",
        "    layers.Conv2D(filters=512, kernel_size=(3,3), padding=\"same\", activation=\"relu\"),\n",
        "    layers.Conv2D(filters=512, kernel_size=(3,3), padding=\"same\", activation=\"relu\"),\n",
        "    layers.MaxPool2D(pool_size=(2,2),strides=(2,2)),\n",
        "    layers.Flatten(),\n",
        "    layers.Dense(4096,activation=\"relu\"),\n",
        "    layers.Dense(4096,activation=\"relu\"),\n",
        "    layers.Dense(10, activation=\"softmax\")\n",
        "    ])\n",
        "model.summary()"
      ],
      "execution_count": 9,
      "outputs": [
        {
          "output_type": "stream",
          "text": [
            "WARNING:tensorflow:Please add `keras.layers.InputLayer` instead of `keras.Input` to Sequential model. `keras.Input` is intended to be used by Functional model.\n",
            "Model: \"sequential\"\n",
            "_________________________________________________________________\n",
            "Layer (type)                 Output Shape              Param #   \n",
            "=================================================================\n",
            "conv2d (Conv2D)              (None, 32, 32, 64)        1792      \n",
            "_________________________________________________________________\n",
            "conv2d_1 (Conv2D)            (None, 32, 32, 64)        36928     \n",
            "_________________________________________________________________\n",
            "max_pooling2d (MaxPooling2D) (None, 16, 16, 64)        0         \n",
            "_________________________________________________________________\n",
            "conv2d_2 (Conv2D)            (None, 16, 16, 128)       73856     \n",
            "_________________________________________________________________\n",
            "conv2d_3 (Conv2D)            (None, 16, 16, 128)       147584    \n",
            "_________________________________________________________________\n",
            "max_pooling2d_1 (MaxPooling2 (None, 8, 8, 128)         0         \n",
            "_________________________________________________________________\n",
            "conv2d_4 (Conv2D)            (None, 8, 8, 256)         295168    \n",
            "_________________________________________________________________\n",
            "conv2d_5 (Conv2D)            (None, 8, 8, 256)         590080    \n",
            "_________________________________________________________________\n",
            "conv2d_6 (Conv2D)            (None, 8, 8, 256)         590080    \n",
            "_________________________________________________________________\n",
            "max_pooling2d_2 (MaxPooling2 (None, 4, 4, 256)         0         \n",
            "_________________________________________________________________\n",
            "conv2d_7 (Conv2D)            (None, 4, 4, 512)         1180160   \n",
            "_________________________________________________________________\n",
            "conv2d_8 (Conv2D)            (None, 4, 4, 512)         2359808   \n",
            "_________________________________________________________________\n",
            "conv2d_9 (Conv2D)            (None, 4, 4, 512)         2359808   \n",
            "_________________________________________________________________\n",
            "max_pooling2d_3 (MaxPooling2 (None, 2, 2, 512)         0         \n",
            "_________________________________________________________________\n",
            "conv2d_10 (Conv2D)           (None, 2, 2, 512)         2359808   \n",
            "_________________________________________________________________\n",
            "conv2d_11 (Conv2D)           (None, 2, 2, 512)         2359808   \n",
            "_________________________________________________________________\n",
            "conv2d_12 (Conv2D)           (None, 2, 2, 512)         2359808   \n",
            "_________________________________________________________________\n",
            "max_pooling2d_4 (MaxPooling2 (None, 1, 1, 512)         0         \n",
            "_________________________________________________________________\n",
            "flatten (Flatten)            (None, 512)               0         \n",
            "_________________________________________________________________\n",
            "dense (Dense)                (None, 4096)              2101248   \n",
            "_________________________________________________________________\n",
            "dense_1 (Dense)              (None, 4096)              16781312  \n",
            "_________________________________________________________________\n",
            "dense_2 (Dense)              (None, 10)                40970     \n",
            "=================================================================\n",
            "Total params: 33,638,218\n",
            "Trainable params: 33,638,218\n",
            "Non-trainable params: 0\n",
            "_________________________________________________________________\n"
          ],
          "name": "stdout"
        }
      ]
    },
    {
      "cell_type": "code",
      "metadata": {
        "id": "iQfPMxBsWMOW"
      },
      "source": [
        "model=model\n",
        "model_Low=model\n",
        "model_high=model"
      ],
      "execution_count": 10,
      "outputs": []
    },
    {
      "cell_type": "code",
      "metadata": {
        "id": "O9MHCDlgP2Kq"
      },
      "source": [
        "model.compile(\n",
        "    optimizer=keras.optimizers.Adam(learning_rate=0.0001), \n",
        "    loss='sparse_categorical_crossentropy', \n",
        "    metrics=['accuracy']\n",
        ")"
      ],
      "execution_count": 11,
      "outputs": []
    },
    {
      "cell_type": "code",
      "metadata": {
        "id": "n52yzcuDWd_g"
      },
      "source": [
        "model_Low.compile(\n",
        "    optimizer=keras.optimizers.Adam(learning_rate=0.0001), \n",
        "    loss='sparse_categorical_crossentropy', \n",
        "    metrics=['accuracy']\n",
        ")"
      ],
      "execution_count": 12,
      "outputs": []
    },
    {
      "cell_type": "code",
      "metadata": {
        "id": "6yGIu6ydWdzV"
      },
      "source": [
        "model_high.compile(\n",
        "    optimizer=keras.optimizers.Adam(learning_rate=0.0001), \n",
        "    loss='sparse_categorical_crossentropy', \n",
        "    metrics=['accuracy']\n",
        ")"
      ],
      "execution_count": 13,
      "outputs": []
    },
    {
      "cell_type": "markdown",
      "metadata": {
        "id": "fjd5ramCUm_f"
      },
      "source": [
        "# **Without Data Augmentation**"
      ]
    },
    {
      "cell_type": "code",
      "metadata": {
        "colab": {
          "base_uri": "https://localhost:8080/"
        },
        "id": "MiUUuimTsqyN",
        "outputId": "88da86d5-2d67-48cf-e52e-ac2a0eba1232"
      },
      "source": [
        "h = model.fit(x=X_train, y=Y_train, epochs=20,validation_split=0.1, batch_size=256,shuffle = True)"
      ],
      "execution_count": 14,
      "outputs": [
        {
          "output_type": "stream",
          "text": [
            "Epoch 1/20\n",
            "176/176 [==============================] - 56s 121ms/step - loss: 2.0032 - accuracy: 0.2166 - val_loss: 1.7919 - val_accuracy: 0.2896\n",
            "Epoch 2/20\n",
            "176/176 [==============================] - 17s 99ms/step - loss: 1.6152 - accuracy: 0.3657 - val_loss: 1.5101 - val_accuracy: 0.4142\n",
            "Epoch 3/20\n",
            "176/176 [==============================] - 18s 101ms/step - loss: 1.4197 - accuracy: 0.4609 - val_loss: 1.3632 - val_accuracy: 0.5086\n",
            "Epoch 4/20\n",
            "176/176 [==============================] - 18s 103ms/step - loss: 1.2607 - accuracy: 0.5333 - val_loss: 1.2344 - val_accuracy: 0.5424\n",
            "Epoch 5/20\n",
            "176/176 [==============================] - 18s 105ms/step - loss: 1.0938 - accuracy: 0.5993 - val_loss: 1.0715 - val_accuracy: 0.6082\n",
            "Epoch 6/20\n",
            "176/176 [==============================] - 18s 105ms/step - loss: 0.9611 - accuracy: 0.6539 - val_loss: 1.0120 - val_accuracy: 0.6320\n",
            "Epoch 7/20\n",
            "176/176 [==============================] - 18s 105ms/step - loss: 0.8296 - accuracy: 0.7036 - val_loss: 0.8976 - val_accuracy: 0.6782\n",
            "Epoch 8/20\n",
            "176/176 [==============================] - 18s 105ms/step - loss: 0.7189 - accuracy: 0.7442 - val_loss: 0.9443 - val_accuracy: 0.6666\n",
            "Epoch 9/20\n",
            "176/176 [==============================] - 18s 104ms/step - loss: 0.6147 - accuracy: 0.7828 - val_loss: 0.9037 - val_accuracy: 0.6992\n",
            "Epoch 10/20\n",
            "176/176 [==============================] - 18s 105ms/step - loss: 0.5259 - accuracy: 0.8122 - val_loss: 0.9225 - val_accuracy: 0.7006\n",
            "Epoch 11/20\n",
            "176/176 [==============================] - 18s 105ms/step - loss: 0.4223 - accuracy: 0.8520 - val_loss: 1.0403 - val_accuracy: 0.6834\n",
            "Epoch 12/20\n",
            "176/176 [==============================] - 18s 105ms/step - loss: 0.3513 - accuracy: 0.8753 - val_loss: 1.0765 - val_accuracy: 0.7038\n",
            "Epoch 13/20\n",
            "176/176 [==============================] - 18s 105ms/step - loss: 0.2833 - accuracy: 0.9011 - val_loss: 1.0251 - val_accuracy: 0.7058\n",
            "Epoch 14/20\n",
            "176/176 [==============================] - 18s 105ms/step - loss: 0.2226 - accuracy: 0.9222 - val_loss: 1.1683 - val_accuracy: 0.7078\n",
            "Epoch 15/20\n",
            "176/176 [==============================] - 18s 105ms/step - loss: 0.1811 - accuracy: 0.9374 - val_loss: 1.3024 - val_accuracy: 0.6984\n",
            "Epoch 16/20\n",
            "176/176 [==============================] - 18s 105ms/step - loss: 0.1648 - accuracy: 0.9424 - val_loss: 1.2782 - val_accuracy: 0.7072\n",
            "Epoch 17/20\n",
            "176/176 [==============================] - 18s 105ms/step - loss: 0.1303 - accuracy: 0.9548 - val_loss: 1.2459 - val_accuracy: 0.7106\n",
            "Epoch 18/20\n",
            "176/176 [==============================] - 18s 105ms/step - loss: 0.1035 - accuracy: 0.9644 - val_loss: 1.3827 - val_accuracy: 0.7256\n",
            "Epoch 19/20\n",
            "176/176 [==============================] - 18s 105ms/step - loss: 0.0966 - accuracy: 0.9677 - val_loss: 1.2704 - val_accuracy: 0.7196\n",
            "Epoch 20/20\n",
            "176/176 [==============================] - 18s 105ms/step - loss: 0.0931 - accuracy: 0.9681 - val_loss: 1.4040 - val_accuracy: 0.7102\n"
          ],
          "name": "stdout"
        }
      ]
    },
    {
      "cell_type": "code",
      "metadata": {
        "colab": {
          "base_uri": "https://localhost:8080/"
        },
        "id": "f8_05AP5UWT9",
        "outputId": "2d797d97-63b9-4dd1-8b73-93dc4a5f5a9a"
      },
      "source": [
        "test_loss, test_acc = model.evaluate(X_test, Y_test)\n",
        "print('\\nTest accuracy:', test_acc)"
      ],
      "execution_count": null,
      "outputs": [
        {
          "output_type": "stream",
          "text": [
            "313/313 [==============================] - 4s 10ms/step - loss: 0.9039 - accuracy: 0.7005\n",
            "\n",
            "Test accuracy: 0.7005000114440918\n"
          ],
          "name": "stdout"
        }
      ]
    },
    {
      "cell_type": "markdown",
      "metadata": {
        "id": "6z0EEXuBU-_Y"
      },
      "source": [
        "# **Less Data Augmentation**"
      ]
    },
    {
      "cell_type": "code",
      "metadata": {
        "id": "8X89N1m7NBZV",
        "colab": {
          "base_uri": "https://localhost:8080/"
        },
        "outputId": "6f12eb62-eda0-437e-c32e-f11d4cdb439a"
      },
      "source": [
        "h_low_augmentation = model_Low.fit(t_batch_low_augmentation, \n",
        "              epochs=20,\n",
        "              steps_per_epoch = X_train.shape[0] // BATCH_SIZE,\n",
        "              verbose=1\n",
        "             )"
      ],
      "execution_count": 15,
      "outputs": [
        {
          "output_type": "stream",
          "text": [
            "Epoch 1/20\n",
            "195/195 [==============================] - 28s 142ms/step - loss: 0.8449 - accuracy: 0.7165\n",
            "Epoch 2/20\n",
            "195/195 [==============================] - 25s 128ms/step - loss: 0.7336 - accuracy: 0.7502\n",
            "Epoch 3/20\n",
            "195/195 [==============================] - 26s 133ms/step - loss: 0.6909 - accuracy: 0.7645\n",
            "Epoch 4/20\n",
            "195/195 [==============================] - 26s 133ms/step - loss: 0.6604 - accuracy: 0.7760\n",
            "Epoch 5/20\n",
            "195/195 [==============================] - 25s 130ms/step - loss: 0.6165 - accuracy: 0.7901\n",
            "Epoch 6/20\n",
            "195/195 [==============================] - 25s 128ms/step - loss: 0.5971 - accuracy: 0.7952\n",
            "Epoch 7/20\n",
            "195/195 [==============================] - 25s 130ms/step - loss: 0.5690 - accuracy: 0.8058\n",
            "Epoch 8/20\n",
            "195/195 [==============================] - 26s 133ms/step - loss: 0.5440 - accuracy: 0.8147\n",
            "Epoch 9/20\n",
            "195/195 [==============================] - 26s 131ms/step - loss: 0.5244 - accuracy: 0.8216\n",
            "Epoch 10/20\n",
            "195/195 [==============================] - 26s 133ms/step - loss: 0.5122 - accuracy: 0.8258\n",
            "Epoch 11/20\n",
            "195/195 [==============================] - 25s 128ms/step - loss: 0.4753 - accuracy: 0.8377\n",
            "Epoch 12/20\n",
            "195/195 [==============================] - 26s 134ms/step - loss: 0.4592 - accuracy: 0.8426\n",
            "Epoch 13/20\n",
            "195/195 [==============================] - 26s 135ms/step - loss: 0.4409 - accuracy: 0.8505\n",
            "Epoch 14/20\n",
            "195/195 [==============================] - 25s 129ms/step - loss: 0.4213 - accuracy: 0.8551\n",
            "Epoch 15/20\n",
            "195/195 [==============================] - 26s 132ms/step - loss: 0.4089 - accuracy: 0.8592\n",
            "Epoch 16/20\n",
            "195/195 [==============================] - 26s 132ms/step - loss: 0.3881 - accuracy: 0.8663\n",
            "Epoch 17/20\n",
            "195/195 [==============================] - 26s 132ms/step - loss: 0.3818 - accuracy: 0.8704\n",
            "Epoch 18/20\n",
            "195/195 [==============================] - 26s 131ms/step - loss: 0.3523 - accuracy: 0.8790\n",
            "Epoch 19/20\n",
            "195/195 [==============================] - 25s 129ms/step - loss: 0.3379 - accuracy: 0.8841\n",
            "Epoch 20/20\n",
            "195/195 [==============================] - 26s 135ms/step - loss: 0.3255 - accuracy: 0.8898\n"
          ],
          "name": "stdout"
        }
      ]
    },
    {
      "cell_type": "code",
      "metadata": {
        "colab": {
          "base_uri": "https://localhost:8080/"
        },
        "id": "qIBeLeC7UeTV",
        "outputId": "f8fb4642-7c67-43db-ca15-623ac1ec759d"
      },
      "source": [
        "test_loss, test_acc = model_Low.evaluate(X_test, Y_test)\n",
        "print('\\nTest accuracy:', test_acc)"
      ],
      "execution_count": null,
      "outputs": [
        {
          "output_type": "stream",
          "text": [
            "313/313 [==============================] - 3s 9ms/step - loss: 0.6724 - accuracy: 0.7695\n",
            "\n",
            "Test accuracy: 0.7695000171661377\n"
          ],
          "name": "stdout"
        }
      ]
    },
    {
      "cell_type": "markdown",
      "metadata": {
        "id": "ApSGMk6OVKNc"
      },
      "source": [
        "# **High Data Augmentation**"
      ]
    },
    {
      "cell_type": "code",
      "metadata": {
        "id": "ERvkaVjyNBWB",
        "colab": {
          "base_uri": "https://localhost:8080/"
        },
        "outputId": "38616770-6aa0-408f-fa01-fe4c9632427a"
      },
      "source": [
        "h_high_augmentation = model_high.fit(t_batch_high_augmentation, \n",
        "              epochs=20,\n",
        "              steps_per_epoch = X_train.shape[0] // BATCH_SIZE,\n",
        "              verbose=1\n",
        "             )"
      ],
      "execution_count": 16,
      "outputs": [
        {
          "output_type": "stream",
          "text": [
            "Epoch 1/20\n",
            "195/195 [==============================] - 31s 156ms/step - loss: 13.8498 - accuracy: 0.1015\n",
            "Epoch 2/20\n",
            "195/195 [==============================] - 30s 154ms/step - loss: 2.3028 - accuracy: 0.0990\n",
            "Epoch 3/20\n",
            "195/195 [==============================] - 31s 158ms/step - loss: 2.3027 - accuracy: 0.0965\n",
            "Epoch 4/20\n",
            "195/195 [==============================] - 29s 150ms/step - loss: 2.3027 - accuracy: 0.0961\n",
            "Epoch 5/20\n",
            "195/195 [==============================] - 31s 160ms/step - loss: 2.3027 - accuracy: 0.0999\n",
            "Epoch 6/20\n",
            "195/195 [==============================] - 31s 157ms/step - loss: 2.3027 - accuracy: 0.0974\n",
            "Epoch 7/20\n",
            "195/195 [==============================] - 31s 160ms/step - loss: 2.3027 - accuracy: 0.0986\n",
            "Epoch 8/20\n",
            "195/195 [==============================] - 29s 150ms/step - loss: 2.3027 - accuracy: 0.0986\n",
            "Epoch 9/20\n",
            "195/195 [==============================] - 31s 159ms/step - loss: 2.3027 - accuracy: 0.0995\n",
            "Epoch 10/20\n",
            "195/195 [==============================] - 30s 152ms/step - loss: 2.3027 - accuracy: 0.0968\n",
            "Epoch 11/20\n",
            "195/195 [==============================] - 32s 162ms/step - loss: 2.3027 - accuracy: 0.0974\n",
            "Epoch 12/20\n",
            "195/195 [==============================] - 32s 162ms/step - loss: 2.3026 - accuracy: 0.0962\n",
            "Epoch 13/20\n",
            "195/195 [==============================] - 30s 153ms/step - loss: 2.3026 - accuracy: 0.0987\n",
            "Epoch 14/20\n",
            "195/195 [==============================] - 31s 159ms/step - loss: 2.3027 - accuracy: 0.0978\n",
            "Epoch 15/20\n",
            "195/195 [==============================] - 30s 154ms/step - loss: 2.3027 - accuracy: 0.0988\n",
            "Epoch 16/20\n",
            "195/195 [==============================] - 31s 157ms/step - loss: 2.3026 - accuracy: 0.0998\n",
            "Epoch 17/20\n",
            "195/195 [==============================] - 30s 155ms/step - loss: 2.3027 - accuracy: 0.0983\n",
            "Epoch 18/20\n",
            "195/195 [==============================] - 30s 155ms/step - loss: 2.3027 - accuracy: 0.0972\n",
            "Epoch 19/20\n",
            "195/195 [==============================] - 30s 153ms/step - loss: 2.3027 - accuracy: 0.0985\n",
            "Epoch 20/20\n",
            "195/195 [==============================] - 31s 156ms/step - loss: 2.3027 - accuracy: 0.0980\n"
          ],
          "name": "stdout"
        }
      ]
    },
    {
      "cell_type": "code",
      "metadata": {
        "colab": {
          "base_uri": "https://localhost:8080/"
        },
        "id": "2EmJUho6TemH",
        "outputId": "6ed788b1-f3f1-4c48-c3ab-532b58318a0f"
      },
      "source": [
        "test_loss, test_acc = model_high.evaluate(X_test, Y_test)\n",
        "print('\\nTest accuracy:', test_acc)"
      ],
      "execution_count": 17,
      "outputs": [
        {
          "output_type": "stream",
          "text": [
            "313/313 [==============================] - 4s 10ms/step - loss: 2.3059 - accuracy: 0.1000\n",
            "\n",
            "Test accuracy: 0.10000000149011612\n"
          ],
          "name": "stdout"
        }
      ]
    },
    {
      "cell_type": "code",
      "metadata": {
        "id": "r8FafT0rNBNY",
        "colab": {
          "base_uri": "https://localhost:8080/",
          "height": 334
        },
        "outputId": "61ec2c3d-3ad9-4719-e131-fddd81fdbdf8"
      },
      "source": [
        "plt.figure(figsize=(20,5))\n",
        "plt.subplot(1,2,1)\n",
        "plt.plot(h.history['accuracy'], 'o-', label='Without augmentation train accuracy')\n",
        "plt.plot(h_low_augmentation.history['accuracy'], 'o-', label='Low augmentation train accuracy')\n",
        "plt.plot(h_high_augmentation.history['accuracy'], 'o-', label='High augmentation train accuracy')\n",
        "\n",
        "plt.xlabel('Epoch')\n",
        "plt.ylabel('Accuracy')\n",
        "plt.grid(True)\n",
        "plt.legend(loc='center right')\n",
        "\n",
        "plt.subplot(1,2,2)\n",
        "plt.plot(h.history['loss'], 'o-', label='Without augmentation train loss')\n",
        "plt.plot(h_low_augmentation.history['loss'], 'o-', label='Low augmentation train loss')\n",
        "plt.plot(h_high_augmentation.history['loss'], 'o-', label='High augmentation train loss')\n",
        "\n",
        "plt.xlabel('Epoch')\n",
        "plt.ylabel('Loss')\n",
        "plt.grid(True)\n",
        "plt.legend(loc='upper right')\n",
        "\n",
        "plt.show()"
      ],
      "execution_count": 24,
      "outputs": [
        {
          "output_type": "display_data",
          "data": {
            "image/png": "[encoded data removed]",
            "text/plain": [
              "<Figure size 1440x360 with 2 Axes>"
            ]
          },
          "metadata": {
            "tags": [],
            "needs_background": "light"
          }
        }
      ]
    },
    {
      "cell_type": "markdown",
      "metadata": {
        "id": "Pzz38CuMKpFA"
      },
      "source": [
        "##**Conclusion**"
      ]
    },
    {
      "cell_type": "markdown",
      "metadata": {
        "id": "Z-4FKGPRYtfA"
      },
      "source": [
        "Without data augmentation test accuracy is less than the test accuracy of less data augmentation.High data augmentation test accuracy is very low.So,less data augmentation method has highest test accuracy than other methods.Also the training needs more memory without the data generator. Data generator is used with flow method requires significantly less memory to train.\n",
        "\n"
      ]
    }
  ]
}